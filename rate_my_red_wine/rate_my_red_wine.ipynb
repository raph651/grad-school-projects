{
  "nbformat": 4,
  "nbformat_minor": 0,
  "metadata": {
    "colab": {
      "name": "hw3.ipynb",
      "provenance": [],
      "collapsed_sections": []
    },
    "kernelspec": {
      "name": "python3",
      "display_name": "Python 3"
    },
    "language_info": {
      "name": "python"
    }
  },
  "cells": [
    {
      "cell_type": "markdown",
      "source": [
        "# Generating Data"
      ],
      "metadata": {
        "id": "WuQEz4zrkUf9"
      }
    },
    {
      "cell_type": "code",
      "execution_count": 2,
      "metadata": {
        "colab": {
          "base_uri": "https://localhost:8080/"
        },
        "id": "Ts3Ur-jDQsW5",
        "outputId": "bf1da24b-92b8-4c98-d160-0e7089b9fc11"
      },
      "outputs": [
        {
          "output_type": "stream",
          "name": "stdout",
          "text": [
            "Mounted at /content/drive\n"
          ]
        }
      ],
      "source": [
        "from google.colab import drive\n",
        "drive.mount(\"/content/drive\")\n",
        "import numpy as np\n",
        "import sklearn as skl\n",
        "\n",
        "features=[\"fixed acidity\"\n",
        "  ,\"volatile acidity\"\n",
        "  , \"citric acid\"\n",
        "  ,\"residual sugar\" \n",
        "  ,\"chlorides\"\n",
        "  ,\"free sulfur dioxide\"\n",
        "  ,\"total sulfur dioxide\"\n",
        "  ,\"density\"\n",
        "  ,\"pH\"\n",
        "  ,\"sulphates\"\n",
        "  ,\"alcohol\"]\n",
        "\n",
        "train=np.loadtxt(\"/content/drive/MyDrive/Colab Notebooks/amath 582 lecture notes/reports /3/wine_training.csv\",delimiter=\",\")\n",
        "test=np.loadtxt(\"/content/drive/MyDrive/Colab Notebooks/amath 582 lecture notes/reports /3/wine_test.csv\",delimiter=\",\")"
      ]
    },
    {
      "cell_type": "markdown",
      "source": [
        "# Normalization"
      ],
      "metadata": {
        "id": "eM1IJ2hnkNHC"
      }
    },
    {
      "cell_type": "code",
      "source": [
        "train_N=train.shape[0]\n",
        "test_N=test.shape[0]\n",
        "\n",
        "# calculate the mean of each column\n",
        "train_mean=np.mean(train,axis=0)\n",
        "train_std=np.std(train,axis=0)\n",
        "\n",
        "# calculate the standard deviation of each column\n",
        "test_mean=np.mean(test,axis=0)\n",
        "test_std=np.std(test,axis=0)\n",
        "\n",
        "# normalize the train and test dataset based on the mean and std calculated\n",
        "# the resulting normal dataset has 0 means and 1 std for each column\n",
        "import numpy.matlib\n",
        "train_normal=(train-np.matlib.repmat(train_mean,train_N,1))/np.matlib.repmat(train_std,train_N,1)\n",
        "test_normal=(test-np.matlib.repmat(test_mean,test_N,1))/np.matlib.repmat(test_std,test_N,1)\n",
        "\n",
        "# X for the 11-input features, Y for the quality output feature\n",
        "X_train=train_normal[:,:-1]\n",
        "Y_train=train_normal[:,-1]\n",
        "\n",
        "X_test=test_normal[:,:-1]\n",
        "Y_test=test_normal[:,-1]"
      ],
      "metadata": {
        "id": "Nznl_Vz3Xy09"
      },
      "execution_count": 3,
      "outputs": []
    },
    {
      "cell_type": "markdown",
      "source": [
        "# Task 1 \n",
        ">Linear Regression Method"
      ],
      "metadata": {
        "id": "zRdKoMz9kfTM"
      }
    },
    {
      "cell_type": "code",
      "source": [
        "# Linear Regression fit\n",
        "from sklearn.linear_model import LinearRegression\n",
        "reg=LinearRegression().fit(X_train,Y_train)\n",
        "\n",
        "# calculating the train and tesr MSE\n",
        "b=np.insert(reg.coef_,0,reg.intercept_)\n",
        "\n",
        "MSE_train=1/len(Y_train)*np.linalg.norm(np.dot(X_train,b[1:])+b[0]-Y_train)**2\n",
        "MSE_test=1/len(Y_test)*np.linalg.norm(np.dot(X_test,b[1:])+b[0]-Y_test)**2\n",
        "\n",
        "print(f\"The linear regression model has the train MSE {MSE_train} and the test MSE {MSE_test}, respectively\")"
      ],
      "metadata": {
        "colab": {
          "base_uri": "https://localhost:8080/"
        },
        "id": "Zm_HLzUodtbW",
        "outputId": "bb23d7b3-2e91-456c-ecb9-bbb46bc7d756"
      },
      "execution_count": 4,
      "outputs": [
        {
          "output_type": "stream",
          "name": "stdout",
          "text": [
            "The linear regression model has the train MSE 0.6278484956554817 and the test MSE 0.7021527395264008, respectively\n"
          ]
        }
      ]
    },
    {
      "cell_type": "markdown",
      "source": [
        "# Task 2\n",
        ">Gaussain (RBF) kernel"
      ],
      "metadata": {
        "id": "IEhiK7XFkprB"
      }
    },
    {
      "cell_type": "markdown",
      "source": [
        "## First, we want to find a suitable range for $\\sigma$ and $\\lambda$. 1000 instances and 10 CVs take a lot of computation, so we focus on a 100 randomly chosen sample subset. \n"
      ],
      "metadata": {
        "id": "kvVxqScJ_ZkX"
      }
    },
    {
      "cell_type": "code",
      "source": [
        "# randomly select a subset of 100 rows from training data, with seed 1 for reproducible results\n",
        "rng=np.random.default_rng(seed=1)\n",
        "rand_100_train= rng.choice(train_normal,size=100,replace=False)\n",
        "\n",
        "rand_X = rand_100_train[:,:-1]\n",
        "rand_Y = rand_100_train[:,-1]"
      ],
      "metadata": {
        "id": "uNLyW97Ek2FZ"
      },
      "execution_count": 5,
      "outputs": []
    },
    {
      "cell_type": "code",
      "source": [
        "# generate 20 different data points for both sigma and lambda\n",
        "K_sigma=20\n",
        "K_lambda=20\n",
        "\n",
        "sgm=np.linspace(-5,5,K_sigma)\n",
        "lmbd=np.linspace(-5,5,K_lambda)\n",
        "\n",
        "# create scores and standard deviation of scores for gaussian kernel with different parameters sigma and lambda\n",
        "score_rbf=np.zeros((K_sigma,K_lambda))\n",
        "score_std_rbf=np.zeros((K_sigma,K_lambda))\n",
        "\n",
        "import sklearn.kernel_ridge \n",
        "KRR_CV_rbf=sklearn.kernel_ridge.KernelRidge(kernel='rbf')\n",
        "\n",
        "# looping over sigmas and lambdas, store the corresponding cross_validation score and score_std\n",
        "# this time we use 100 randomly selected instances to get a rough range of parameters\n",
        "for i in range(K_sigma):\n",
        "\n",
        "  KRR_CV_rbf.gamma=1/(2*(2**sgm[i])**2)\n",
        "\n",
        "  for j in range(K_lambda):\n",
        "\n",
        "    KRR_CV_rbf.alpha=2**lmbd[j]\n",
        "\n",
        "    this_score_rbf=skl.model_selection.cross_val_score(KRR_CV_rbf,rand_X,rand_Y,scoring=\"neg_mean_squared_error\",cv=10)\n",
        "\n",
        "    score_rbf[i,j]=np.mean(this_score_rbf)\n",
        "\n",
        "    score_std_rbf[i,j]=np.std(this_score_rbf)\n"
      ],
      "metadata": {
        "id": "P_Wh63vATk28"
      },
      "execution_count": null,
      "outputs": []
    },
    {
      "cell_type": "code",
      "source": [
        "print(score_rbf.max())\n",
        "\n",
        "# find where the score has max value, which corresponds to min MSE\n",
        "# same for score std\n",
        "ij_min_rbf=np.where(score_rbf==score_rbf.max())\n",
        "ij_min_std_rbf=np.where(score_std_rbf==score_std_rbf.min())\n",
        "\n",
        "\n",
        "print('For Gaussian kernel, min MSE happens at ','log2 sigma= ', *sgm[ij_min_rbf[0]], 'log2 lambda: ',*lmbd[ij_min_rbf[1]])\n",
        "print('For Gaussian kernel, min MSE std happens at , ','log2 sigma: ', *sgm[ij_min_std_rbf[0]], 'log2 lambda: ',*lmbd[ij_min_std_rbf[1]])\n",
        "\n"
      ],
      "metadata": {
        "colab": {
          "base_uri": "https://localhost:8080/"
        },
        "id": "CqRyulwV6OKy",
        "outputId": "b943716c-9234-4bae-dda4-7701f1388f11"
      },
      "execution_count": null,
      "outputs": [
        {
          "output_type": "stream",
          "name": "stdout",
          "text": [
            "-0.8310143604675698\n",
            "For Gaussian kernel, min MSE happens at  log2 sigma=  2.3684210526315788 log2 lambda:  -0.2631578947368425\n",
            "For Gaussian kernel, min MSE std happens at ,  log2 sigma:  2.3684210526315788 log2 lambda:  -0.7894736842105265\n"
          ]
        }
      ]
    },
    {
      "cell_type": "code",
      "source": [
        "# plot the contour map for score and score std with respect to log_2sigma, log_2lambda\n",
        "import matplotlib.pyplot as plt\n",
        "\n",
        "lv,sv=np.meshgrid(lmbd,sgm)\n",
        "\n",
        "fig, ax = plt.subplots(1,2, figsize=(20,10))\n",
        "\n",
        "cm0 = ax[0].contourf(lv,sv, np.log2(np.abs(score_rbf)))\n",
        "ax[0].scatter(-0.263,2.368)\n",
        "ax[0].set_xlabel('$log_2\\lambda$')\n",
        "ax[0].set_ylabel('$log_2\\sigma$')\n",
        "ax[0].set_title('Score for Gaussian method')\n",
        "fig.colorbar(cm0, ax=ax[0])\n",
        "\n",
        "\n",
        "cm1 = ax[1].contourf(lv, sv, np.log2(np.abs(score_std_rbf)))\n",
        "ax[1].scatter(-0.789,2.368)\n",
        "ax[1].set_xlabel('$log_2\\lambda$')\n",
        "ax[1].set_ylabel('$log_2\\sigma$')\n",
        "ax[1].set_title('Score std for Guassian method')\n",
        "fig.colorbar(cm1, ax=ax[1])\n",
        "\n"
      ],
      "metadata": {
        "colab": {
          "base_uri": "https://localhost:8080/",
          "height": 642
        },
        "id": "AGE1giA5Tkoc",
        "outputId": "b0b71124-b288-4c50-9cb2-e349238bf8c4"
      },
      "execution_count": null,
      "outputs": [
        {
          "output_type": "execute_result",
          "data": {
            "text/plain": [
              "<matplotlib.colorbar.Colorbar at 0x7fa254e76c10>"
            ]
          },
          "metadata": {},
          "execution_count": 7
        },
        {
          "output_type": "display_data",
          "data": {
            "image/png": "[encoded data removed]",
            "text/plain": [
              "<Figure size 1440x720 with 4 Axes>"
            ]
          },
          "metadata": {
            "needs_background": "light"
          }
        }
      ]
    },
    {
      "cell_type": "markdown",
      "source": [
        "From the two graphs above, we see that a reasonable choice for Gaussian kernel's parameters $\\sigma$ and $\\lambda$ in the $log_2$ form is abouot $log_2\\sigma \\in (1.5,4), \\;log_2\\lambda \\in (-3,1)$\n",
        "\n",
        "We now use the whole train dataset to tune around the optimal parameters we found."
      ],
      "metadata": {
        "id": "ynpXDZwvk2ys"
      }
    },
    {
      "cell_type": "code",
      "source": [
        "# generate 20 different data points for both sigma and lambda\n",
        "K_sigma=20\n",
        "K_lambda=20\n",
        "\n",
        "sgm=np.linspace(1.5,4,K_sigma) # in the range of 1.5 to 4\n",
        "lmbd=np.linspace(-3,1,K_lambda) # in the range of -3 to 1\n",
        "\n",
        "# create scores and standard deviation of scores for gaussian kernel with different parameters sigma and lambda\n",
        "score_rbf=np.zeros((K_sigma,K_lambda))\n",
        "score_std_rbf=np.zeros((K_sigma,K_lambda))\n",
        "\n",
        "import sklearn.kernel_ridge \n",
        "\n",
        "KRR_CV_rbf=sklearn.kernel_ridge.KernelRidge(kernel='rbf')\n",
        "\n",
        "# looping over sigmas and lambdas, store the corresponding cross_validation score and score_std\n",
        "for i in range(K_sigma):\n",
        "  KRR_CV_rbf.gamma=1/(2*(2**sgm[i])**2)\n",
        "  for j in range(K_lambda):\n",
        "\n",
        "    KRR_CV_rbf.alpha=(2**lmbd[j])\n",
        "\n",
        "    this_score_rbf=skl.model_selection.cross_val_score(KRR_CV_rbf,X_train,Y_train,scoring=\"neg_mean_squared_error\",cv=10)\n",
        "\n",
        "    score_rbf[i,j]= (np.mean(this_score_rbf))\n",
        "\n",
        "    score_std_rbf[i,j]=(np.std(this_score_rbf))"
      ],
      "metadata": {
        "id": "Xv68jdjtk415"
      },
      "execution_count": 23,
      "outputs": []
    },
    {
      "cell_type": "code",
      "source": [
        "print(score_rbf.max())\n",
        "\n",
        "# get where we have the min score and min score std\n",
        "ij_min_rbf=np.where(score_rbf==score_rbf.max())\n",
        "ij_min_std_rbf=np.where(score_std_rbf==score_std_rbf.min())\n",
        "\n",
        "print('For Gaussian kernel, min MSE happens at ','log2 sigma: ', *sgm[ij_min_rbf[0]], 'log2 lambda: ',*lmbd[ij_min_rbf[1]])\n",
        "print('For Gaussian kernel min MSE std happens at , ','log2 sigma: ', *sgm[ij_min_std_rbf[0]], 'log2 lambda: ',*lmbd[ij_min_std_rbf[1]])\n"
      ],
      "metadata": {
        "colab": {
          "base_uri": "https://localhost:8080/"
        },
        "id": "3BOvqu16TQcJ",
        "outputId": "1a59f163-0f0f-43e7-9a4e-4023265ac287"
      },
      "execution_count": 24,
      "outputs": [
        {
          "output_type": "stream",
          "name": "stdout",
          "text": [
            "-0.5957192976653385\n",
            "For Gaussian kernel, min MSE happens at  log2 sigma:  2.026315789473684 log2 lambda:  -2.7894736842105265\n",
            "For Gaussian kernel min MSE std happens at ,  log2 sigma:  1.763157894736842 log2 lambda:  -1.5263157894736843\n"
          ]
        }
      ]
    },
    {
      "cell_type": "code",
      "source": [
        "# plot the contour map\n",
        "import matplotlib.pyplot as plt\n",
        "lv1,sv1=np.meshgrid(lmbd,sgm)\n",
        "\n",
        "fig,ax=plt.subplots(1,2,figsize=(20,10))\n",
        "\n",
        "cm0 = ax[0].contourf(lv1,sv1, np.log2(np.abs(score_rbf)))\n",
        "ax[0].scatter(-2.789,2.026)\n",
        "ax[0].set_xlabel('$log_2\\lambda$')\n",
        "ax[0].set_ylabel('$log_2\\sigma$')\n",
        "ax[0].set_title('Score for Gaussian method')\n",
        "fig.colorbar(cm0, ax=ax[0])\n",
        "\n",
        "cm1 = ax[1].contourf(lv1, sv1, np.log2(np.abs(score_std_rbf)))\n",
        "ax[1].scatter(-1.53,1.763)\n",
        "ax[1].set_xlabel('$log_2\\lambda$')\n",
        "ax[1].set_ylabel('$log_2\\sigma$')\n",
        "ax[1].set_title('Score std for Guassian method')\n",
        "fig.colorbar(cm1, ax=ax[1])"
      ],
      "metadata": {
        "colab": {
          "base_uri": "https://localhost:8080/",
          "height": 642
        },
        "id": "d0fcFfHGdhBl",
        "outputId": "484c6dd1-b566-4783-a353-1a69e04f72c6"
      },
      "execution_count": 26,
      "outputs": [
        {
          "output_type": "execute_result",
          "data": {
            "text/plain": [
              "<matplotlib.colorbar.Colorbar at 0x7f86b08cb1d0>"
            ]
          },
          "metadata": {},
          "execution_count": 26
        },
        {
          "output_type": "display_data",
          "data": {
            "image/png": "[encoded data removed]",
            "text/plain": [
              "<Figure size 1440x720 with 4 Axes>"
            ]
          },
          "metadata": {
            "needs_background": "light"
          }
        }
      ]
    },
    {
      "cell_type": "markdown",
      "source": [
        "We then choose $\\sigma = 2^{2.026}$, and $\\lambda = 2^{-2.789}$ to obtain the best fit. \n",
        "\n",
        "Moving on to find the true train and test MSEs:"
      ],
      "metadata": {
        "id": "OIl3PTr9Fkv6"
      }
    },
    {
      "cell_type": "code",
      "source": [
        "KRR_CV_rbf=sklearn.kernel_ridge.KernelRidge(kernel='rbf')\n",
        "KRR_CV_rbf.gamma=1/(2*(2**2.026)**2)\n",
        "KRR_CV_rbf.alpha=2**-2.789\n",
        "KRR_CV_rbf.fit(X_train,Y_train)\n",
        "\n",
        "p2_train=KRR_CV_rbf.predict(X_train)\n",
        "p2_test=KRR_CV_rbf.predict(X_test)\n",
        "\n",
        "mse_train=1/len(p2_train)*np.linalg.norm(p2_train-Y_train)**2\n",
        "mse_test=1/len(p2_test)*np.linalg.norm(p2_test-Y_test)**2\n",
        "\n",
        "print(f'The train MSE for Gaussian kernel is found to be {mse_train}, and the test MSE being {mse_test}')"
      ],
      "metadata": {
        "colab": {
          "base_uri": "https://localhost:8080/"
        },
        "id": "2O225QdRGDS9",
        "outputId": "6ea8bdfa-8093-4231-f294-200d446a635c"
      },
      "execution_count": 28,
      "outputs": [
        {
          "output_type": "stream",
          "name": "stdout",
          "text": [
            "The train MSE for Gaussian kernel is found to be 0.46042463422549734, and the test MSE being 0.6486391952783674\n"
          ]
        }
      ]
    },
    {
      "cell_type": "markdown",
      "source": [
        "# Laplacian Method"
      ],
      "metadata": {
        "id": "7AFVF3sR-rd1"
      }
    },
    {
      "cell_type": "code",
      "source": [
        "# generate 20 different data points for both sigma and lambda\n",
        "K_sigma=20\n",
        "K_lambda=20\n",
        "\n",
        "sgm=np.linspace(-5,5,K_sigma)\n",
        "lmbd=np.linspace(-5,5,K_lambda)\n",
        "\n",
        "# create scores and standard deviation of scores for laplacian kernel with different parameters sigma and lambda\n",
        "score_lap=np.zeros((K_sigma,K_lambda))\n",
        "score_std_lap=np.zeros((K_sigma,K_lambda))\n",
        "\n",
        "import sklearn.kernel_ridge \n",
        "KRR_CV_lap=sklearn.kernel_ridge.KernelRidge(kernel='laplacian')\n",
        "\n",
        "# looping over sigmas and lambdas, store the corresponding cross_validation score and score_std\n",
        "# this time we use 100 randomly selected instances to get a rough range of parameters\n",
        "for i in range(K_sigma):\n",
        "\n",
        "  KRR_CV_lap.gamma=1/(2**sgm[i])\n",
        "\n",
        "  for j in range(K_lambda):\n",
        "\n",
        "    KRR_CV_lap.alpha=2**lmbd[j]\n",
        "\n",
        "    this_score_lap=skl.model_selection.cross_val_score(KRR_CV_lap,rand_X,rand_Y,scoring=\"neg_mean_squared_error\",cv=10)\n",
        "\n",
        "    score_lap[i,j]=np.mean(this_score_lap)\n",
        "\n",
        "    score_std_lap[i,j]=np.std(this_score_lap)\n",
        "\n"
      ],
      "metadata": {
        "id": "10X_9V3jpZFc"
      },
      "execution_count": 15,
      "outputs": []
    },
    {
      "cell_type": "code",
      "source": [
        "print(score_lap.max())\n",
        "\n",
        "ij_min_lap=np.where(score_lap==score_lap.max())\n",
        "ij_min_std_lap=np.where(score_std_lap==score_std_lap.min())\n",
        "\n",
        "\n",
        "print('For Laplacian kernel, min MSE happens at ','log2 sigma: ', *sgm[ij_min_lap[0]], 'log2 lambda: ',*lmbd[ij_min_lap[1]])\n",
        "print('For Laplacian kernel, min MSE std happens at , ','log2 sigma: ', *sgm[ij_min_std_lap[0]], 'log2 lambda: ',*lmbd[ij_min_std_lap[1]])"
      ],
      "metadata": {
        "colab": {
          "base_uri": "https://localhost:8080/"
        },
        "id": "pRNbjE3M_QoJ",
        "outputId": "287c83fd-ca74-4872-af3a-20485a36c652"
      },
      "execution_count": 16,
      "outputs": [
        {
          "output_type": "stream",
          "name": "stdout",
          "text": [
            "-0.8260579472779549\n",
            "For Laplacian kernel, min MSE happens at  log2 sigma:  5.0 log2 lambda:  -1.3157894736842106\n",
            "For Laplacian kernel, min MSE std happens at ,  log2 sigma:  5.0 log2 lambda:  -1.8421052631578947\n"
          ]
        }
      ]
    },
    {
      "cell_type": "code",
      "source": [
        "import matplotlib.pyplot as plt\n",
        "lv2,sv2=np.meshgrid(lmbd,sgm)\n",
        "\n",
        "fig, ax = plt.subplots(1,2, figsize=(20,10))\n",
        "\n",
        "cm0 = ax[0].contourf(lv2,sv2, np.log2(np.abs(score_lap)))\n",
        "ax[0].scatter(-1.316,5.0)\n",
        "ax[0].set_xlabel('$log_2\\lambda$')\n",
        "ax[0].set_ylabel('$log_2\\sigma$')\n",
        "ax[0].set_title('Score for Laplacian method')\n",
        "fig.colorbar(cm0, ax=ax[0])\n",
        "\n",
        "\n",
        "cm1 = ax[1].contourf(lv2, sv2, np.log2(np.abs(score_std_lap)))\n",
        "ax[1].scatter(-1.842,5.0)\n",
        "ax[1].set_xlabel('$log_2\\lambda$')\n",
        "ax[1].set_ylabel('$log_2\\sigma$')\n",
        "ax[1].set_title('Score std for Laplacian method')\n",
        "fig.colorbar(cm1, ax=ax[1])"
      ],
      "metadata": {
        "colab": {
          "base_uri": "https://localhost:8080/",
          "height": 642
        },
        "id": "EruB4gNIAEnx",
        "outputId": "abbdca6b-2951-4c52-a852-0f104d95bc99"
      },
      "execution_count": 17,
      "outputs": [
        {
          "output_type": "execute_result",
          "data": {
            "text/plain": [
              "<matplotlib.colorbar.Colorbar at 0x7f86b0610390>"
            ]
          },
          "metadata": {},
          "execution_count": 17
        },
        {
          "output_type": "display_data",
          "data": {
            "image/png": "[encoded data removed]",
            "text/plain": [
              "<Figure size 1440x720 with 4 Axes>"
            ]
          },
          "metadata": {
            "needs_background": "light"
          }
        }
      ]
    },
    {
      "cell_type": "markdown",
      "source": [
        "From the two graphs above, we see that a reasonable choice for Gaussian kernel's parameters $\\sigma$ and $\\lambda$ in the $log_2$ form is about linearly related. Here we make a choice for range of $\\sigma$ being $log_2\\sigma \\in (0,8)$ and for range of $\\lambda$ being $log_2\\lambda\\in(-4,-1).$\n",
        "\n",
        "\n",
        "We now use the whole train dataset to tune around the optimal parameters we found."
      ],
      "metadata": {
        "id": "6-zT02syI1wO"
      }
    },
    {
      "cell_type": "code",
      "source": [
        "# generate 20 different data points for both sigma and lambda\n",
        "K_sigma=20\n",
        "K_lambda=20\n",
        "\n",
        "sgm=np.linspace(0,8,K_sigma)\n",
        "lmbd=np.linspace(-4,-1,K_lambda)\n",
        "\n",
        "# create scores and standard deviation of scores for laplacian kernel with different parameters sigma and lambda\n",
        "score_lap=np.zeros((K_sigma,K_lambda))\n",
        "score_std_lap=np.zeros((K_sigma,K_lambda))\n",
        "\n",
        "import sklearn.kernel_ridge \n",
        "\n",
        "KRR_CV_lap=sklearn.kernel_ridge.KernelRidge(kernel='laplacian')\n",
        "\n",
        "# looping over sigmas and lambdas, store the corresponding cross_validation score and score_std\n",
        "for i in range(K_sigma):\n",
        "\n",
        "  KRR_CV_lap.gamma=1/(2**sgm[i])\n",
        "\n",
        "  for j in range(K_lambda):\n",
        "\n",
        "    KRR_CV_lap.alpha=2**lmbd[j]\n",
        "\n",
        "    this_score_lap=skl.model_selection.cross_val_score(KRR_CV_lap,X_train,Y_train,scoring=\"neg_mean_squared_error\",cv=10)\n",
        "\n",
        "    score_lap[i,j]=np.mean(this_score_lap)\n",
        "\n",
        "    score_std_lap[i,j]=np.std(this_score_lap)\n",
        "\n"
      ],
      "metadata": {
        "id": "gP30PQ8TH7ph"
      },
      "execution_count": 18,
      "outputs": []
    },
    {
      "cell_type": "code",
      "source": [
        "print(score_lap.max())\n",
        "\n",
        "ij_min_lap=np.where(score_lap==score_lap.max())\n",
        "ij_min_std_lap=np.where(score_std_lap==score_std_lap.min())\n",
        "\n",
        "print('Min MSE happens at ','log2 sigma: ', *sgm[ij_min_lap[0]], 'log2 lambda: ',*lmbd[ij_min_lap[1]])\n",
        "print('Min MSE std happens at , ','log2 sigma: ', *sgm[ij_min_std_lap[0]], 'log2 lambda: ',*lmbd[ij_min_std_lap[1]])\n"
      ],
      "metadata": {
        "colab": {
          "base_uri": "https://localhost:8080/"
        },
        "id": "KJA-rmN2a4UO",
        "outputId": "ad0e8014-8397-4d4d-e6f2-5f1e27a85c5c"
      },
      "execution_count": 19,
      "outputs": [
        {
          "output_type": "stream",
          "name": "stdout",
          "text": [
            "-0.5450823381429087\n",
            "Min MSE happens at  log2 sigma:  2.1052631578947367 log2 lambda:  -2.105263157894737\n",
            "Min MSE std happens at ,  log2 sigma:  4.631578947368421 log2 lambda:  -2.4210526315789473\n"
          ]
        }
      ]
    },
    {
      "cell_type": "code",
      "source": [
        "lv3,sv3=np.meshgrid(lmbd,sgm)\n",
        "\n",
        "fig, ax = plt.subplots(1,2, figsize=(20,10))\n",
        "\n",
        "cm0 = ax[0].contourf(lv3,sv3, np.log2(np.abs(score_lap)))\n",
        "ax[0].scatter(-2.105,2.105)\n",
        "ax[0].set_xlabel('$log_2\\lambda$')\n",
        "ax[0].set_ylabel('$log_2\\sigma$')\n",
        "ax[0].set_title('Score for Laplacian method')\n",
        "fig.colorbar(cm0, ax=ax[0])\n",
        "\n",
        "\n",
        "cm1 = ax[1].contourf(lv3, sv3, np.log2(np.abs(score_std_lap)))\n",
        "ax[1].scatter(-2.632,4.737)\n",
        "ax[1].set_xlabel('$log_2\\lambda$')\n",
        "ax[1].set_ylabel('$log_2\\sigma$')\n",
        "ax[1].set_title('Score std for Laplacian method')\n",
        "fig.colorbar(cm1, ax=ax[1])"
      ],
      "metadata": {
        "colab": {
          "base_uri": "https://localhost:8080/",
          "height": 642
        },
        "id": "Oc3Kbhzjed1C",
        "outputId": "8444c64f-65ca-4510-ff2c-6b7d48550c85"
      },
      "execution_count": 20,
      "outputs": [
        {
          "output_type": "execute_result",
          "data": {
            "text/plain": [
              "<matplotlib.colorbar.Colorbar at 0x7f86b0402350>"
            ]
          },
          "metadata": {},
          "execution_count": 20
        },
        {
          "output_type": "display_data",
          "data": {
            "image/png": "[encoded data removed]",
            "text/plain": [
              "<Figure size 1440x720 with 4 Axes>"
            ]
          },
          "metadata": {
            "needs_background": "light"
          }
        }
      ]
    },
    {
      "cell_type": "markdown",
      "source": [
        "We then choose $\\sigma = 2^{2.105}$, and $\\lambda = 2^{-2.105}$ to obtain the best fit. \n",
        "\n",
        "Moving on to find the train and test MSEs:"
      ],
      "metadata": {
        "id": "9t-F-EoTVB-c"
      }
    },
    {
      "cell_type": "code",
      "source": [
        "KRR_CV_lap=sklearn.kernel_ridge.KernelRidge(kernel='laplacian')\n",
        "KRR_CV_lap.gamma=1/(2**2.105)\n",
        "KRR_CV_lap.alpha=2**-2.105\n",
        "\n",
        "KRR_CV_lap.fit(X_train,Y_train)\n",
        "\n",
        "p3_train=KRR_CV_lap.predict(X_train)\n",
        "p3_test=KRR_CV_lap.predict(X_test)\n",
        "\n",
        "mse_train=1/len(p3_train)*np.linalg.norm(p3_train-Y_train)**2 \n",
        "mse_test=1/len(p3_test)*np.linalg.norm(p3_test-Y_test)**2 \n",
        "\n",
        "print(f'The train MSE for Laplacian kernel is found to be {mse_train}, and the test MSE being {mse_test}')"
      ],
      "metadata": {
        "colab": {
          "base_uri": "https://localhost:8080/"
        },
        "id": "bc2JDLHXnU0j",
        "outputId": "1e399160-b90c-4469-dae5-861544908f33"
      },
      "execution_count": 29,
      "outputs": [
        {
          "output_type": "stream",
          "name": "stdout",
          "text": [
            "The train MSE for Laplacian kernel is found to be 0.0578849428426452, and the test MSE being 0.5894883449952983\n"
          ]
        }
      ]
    },
    {
      "cell_type": "markdown",
      "source": [
        "### Here we see that the two Kernel Ridge Regression methods give smaller MSEs than the linear regression does. Based on the results, the Laplacian kernel method definitely fits our data the best. \n",
        "\n",
        "### The Laplacian method produces pretty small MSE for train data set $\\approx 0.058$, but comparably high test MSE $\\approx 0.589$，which might be over-fitting.  "
      ],
      "metadata": {
        "id": "vKbzE2xieUvv"
      }
    },
    {
      "cell_type": "markdown",
      "source": [
        "# Task 3\n",
        "> Prediction on new batch"
      ],
      "metadata": {
        "id": "kRxrow7oeMTS"
      }
    },
    {
      "cell_type": "code",
      "source": [
        "batch=np.loadtxt(\"/content/drive/MyDrive/Colab Notebooks/amath 582 lecture notes/reports /3/wine_new_batch.csv\",delimiter=\",\")\n",
        "batch_N=batch.shape[0]\n",
        "\n",
        "# first normalize the new batch data using the previous \n",
        "batch_normal=(batch-np.matlib.repmat(train_mean[:11],batch_N,1))/np.matlib.repmat(train_std[:11],batch_N,1)"
      ],
      "metadata": {
        "id": "iDkQQyy-YcVO"
      },
      "execution_count": 30,
      "outputs": []
    },
    {
      "cell_type": "code",
      "source": [
        "# predict the scores \n",
        "p1=reg.predict(batch_normal)\n",
        "p2=KRR_CV_rbf.predict(batch_normal)\n",
        "p3=KRR_CV_lap.predict(batch_normal)\n",
        "\n",
        "# denormalize and recenter them back, using the normalization coefficients same as normalizing train data set\n",
        "print(np.round(p1*train_std[11]+train_mean[11],4),sep='  ')\n",
        "print(np.round(p2*train_std[11]+train_mean[11],4),sep='  ')\n",
        "print(np.round(p3*train_std[11]+train_mean[11],4),sep='  ')"
      ],
      "metadata": {
        "colab": {
          "base_uri": "https://localhost:8080/"
        },
        "id": "vHOaCdFRi8QO",
        "outputId": "4105d16e-d713-4de4-f5da-d97778d59353"
      },
      "execution_count": 44,
      "outputs": [
        {
          "output_type": "stream",
          "name": "stdout",
          "text": [
            "[6.0047 5.2877 5.5636 6.067  5.9425]\n",
            "[5.976  5.4329 5.3277 6.1057 6.032 ]\n",
            "[6.0471 5.475  5.624  5.9732 6.0072]\n"
          ]
        }
      ]
    }
  ]
}