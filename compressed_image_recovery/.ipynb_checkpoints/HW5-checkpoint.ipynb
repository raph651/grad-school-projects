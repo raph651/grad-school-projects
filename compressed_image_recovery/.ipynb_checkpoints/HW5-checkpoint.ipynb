{
 "cells": [
  {
   "cell_type": "markdown",
   "metadata": {
    "id": "Uogs3JF8EO1F"
   },
   "source": [
    "Helper notebook for HW5, AMATH 582/482 Winter 2022."
   ]
  },
  {
   "cell_type": "code",
   "execution_count": 3,
   "metadata": {
    "id": "V6_pBc8GEUuE"
   },
   "outputs": [],
   "source": [
    "# Packages you will need \n",
    "\n",
    "import numpy as np\n",
    "import matplotlib.pyplot as plt\n",
    "import cvxpy as cvx\n",
    "import skimage as ski\n",
    "\n",
    "import skimage.io\n",
    "import skimage.transform\n",
    "\n",
    "import scipy.fftpack as spfft # for discrete cosine transform \n",
    "\n",
    "# link Gdrive if using colab\n",
    "#from google.colab import drive\n",
    "#drive.mount('/content/drive')"
   ]
  },
  {
   "cell_type": "code",
   "execution_count": 4,
   "metadata": {
    "id": "oRQNIYQDE5vu"
   },
   "outputs": [],
   "source": [
    "# constrauct forward and inverse DCT matrices \n",
    "\n",
    "# construct DCT matrix\n",
    "def construct_DCT_Mat( Nx, Ny ):\n",
    "\n",
    "  # input : Nx number of columns of image \n",
    "  #         Ny number of rows of image \n",
    "\n",
    "  # output: D DCT matrix mapping image.flatten() to \n",
    "  #         DCT(image).flatten()\n",
    "\n",
    "  Dx = spfft.dct(np.eye(Nx), axis =0, norm='ortho')\n",
    "\n",
    "  Dy = spfft.dct(np.eye(Ny), axis = 0, norm='ortho')\n",
    "\n",
    "  D = np.kron(Dy, Dx)\n",
    "\n",
    "  return D\n",
    "\n",
    "# construct inverse DCT matrix\n",
    "def construct_iDCT_Mat( Nx, Ny ):\n",
    "\n",
    "  # input : Nx number of columns of image \n",
    "  #         Ny number of rows of image \n",
    "\n",
    "  # output: iD iDCT matrix mapping DCT(image).flatten() to \n",
    "  #         image.flatten()\n",
    "\n",
    "  Dx = spfft.idct(np.eye(Nx), axis =0, norm='ortho')\n",
    "\n",
    "  Dy = spfft.idct(np.eye(Ny), axis = 0, norm = 'ortho')\n",
    "\n",
    "  D = np.kron(Dy, Dx)\n",
    "\n",
    "  return D"
   ]
  },
  {
   "cell_type": "code",
   "execution_count": 5,
   "metadata": {},
   "outputs": [],
   "source": [
    "B=np.load('./B.npy')\n",
    "y=np.load('./y.npy')"
   ]
  },
  {
   "cell_type": "code",
   "execution_count": null,
   "metadata": {},
   "outputs": [],
   "source": [
    "Nx,Ny=50,50\n",
    "N=Nx*Ny\n",
    "D_inv=construct_iDCT_Mat(Nx,Ny)\n",
    "A=np.dot(B,D_inv)\n",
    "\n",
    "x_l1 = cvx.Variable(N)\n",
    "\n",
    "tol=10**-2\n",
    "\n",
    "objective_l1 = cvx.Minimize( cvx.norm( x_l1, 1 ) )\n",
    "constraints_l1 =  [-tol <= A*x_l1 - y, A*x_l1 - y <= tol]\n",
    "prob_l1 = cvx.Problem( objective_l1, constraints_l1)\n",
    "\n",
    "prob_l1.solve(verbose=True, solver = 'CVXOPT', max_iter= 500, reltol=1e-1, featol\n",
    "= 1e-1)\n"
   ]
  }
 ],
 "metadata": {
  "colab": {
   "name": "HW5-Helper.ipynb",
   "provenance": []
  },
  "kernelspec": {
   "display_name": "Python 3 (ipykernel)",
   "language": "python",
   "name": "python3"
  },
  "language_info": {
   "codemirror_mode": {
    "name": "ipython",
    "version": 3
   },
   "file_extension": ".py",
   "mimetype": "text/x-python",
   "name": "python",
   "nbconvert_exporter": "python",
   "pygments_lexer": "ipython3",
   "version": "3.8.8"
  },
  "latex_envs": {
   "LaTeX_envs_menu_present": true,
   "autoclose": true,
   "autocomplete": false,
   "bibliofile": "biblio.bib",
   "cite_by": "apalike",
   "current_citInitial": 1,
   "eqLabelWithNumbers": false,
   "eqNumInitial": 1,
   "hotkeys": {
    "equation": "Ctrl-E",
    "itemize": "Ctrl-I"
   },
   "labels_anchors": false,
   "latex_user_defs": false,
   "report_style_numbering": false,
   "user_envs_cfg": false
  },
  "toc": {
   "base_numbering": 1,
   "nav_menu": {},
   "number_sections": true,
   "sideBar": true,
   "skip_h1_title": false,
   "title_cell": "Table of Contents",
   "title_sidebar": "Contents",
   "toc_cell": false,
   "toc_position": {},
   "toc_section_display": true,
   "toc_window_display": false
  },
  "varInspector": {
   "cols": {
    "lenName": 16,
    "lenType": 16,
    "lenVar": 40
   },
   "kernels_config": {
    "python": {
     "delete_cmd_postfix": "",
     "delete_cmd_prefix": "del ",
     "library": "var_list.py",
     "varRefreshCmd": "print(var_dic_list())"
    },
    "r": {
     "delete_cmd_postfix": ") ",
     "delete_cmd_prefix": "rm(",
     "library": "var_list.r",
     "varRefreshCmd": "cat(var_dic_list()) "
    }
   },
   "types_to_exclude": [
    "module",
    "function",
    "builtin_function_or_method",
    "instance",
    "_Feature"
   ],
   "window_display": false
  }
 },
 "nbformat": 4,
 "nbformat_minor": 1
}
