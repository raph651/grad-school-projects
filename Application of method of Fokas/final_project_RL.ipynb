{
 "cells": [
  {
   "cell_type": "markdown",
   "id": "4164a3f0",
   "metadata": {},
   "source": [
    "# Final Project: Method of fokas and its implementation for solving linear partial differential equations \n",
    "\n"
   ]
  },
  {
   "cell_type": "markdown",
   "id": "2511335b",
   "metadata": {},
   "source": [
    ">**AMATH 581 Raphael Liu**  raph651@uw.edu"
   ]
  },
  {
   "cell_type": "markdown",
   "id": "cbc92c6c",
   "metadata": {},
   "source": [
    "## Background of Research"
   ]
  },
  {
   "cell_type": "markdown",
   "id": "2a3e4b6f",
   "metadata": {},
   "source": [
    "The research interest is originated from the amath course 567: *applied complex analysis*, taught by Prof. Bernard Deconinck. I'm taking this course this autumn quarter. The main concept of the course is to introduce complex variables and its applications. Contour Integration, Cauchy's theorem, Riemann surface, etc,. are covered in the course. \n",
    "\n",
    "This project's topic, method of fokas, is introduced at the end of the quarter but only the beginning of it is covered in class. In this notebook, I'll introduce and go through the procedure of fokas's method, and develop an implementation script that solves an example of linear PDEs system. More can be learned in Prof. Deconinck's paper here. {https://depts.washington.edu/bdecon/papers/pdfs/trogdon_deconinck_linear_pdes.pdf}\n",
    "\n",
    "Classically, given a boundary value problem for linear PDEs with constant coefficient, we rely on separation of variables and specific integral transforms to find the explicit solution. The standard methods are a in collection of situation-wise approaches targeting specific boundary equations and boundary conditions. These approaches involve separation of variables, Fourier seires and transforms, Laplace's transforms, Sturm–Liouville theory, and other integral transforms. It becomes difficult, however, for the standard methods to solve higher order PDEs. On the other hand, the method of Fokas gives the equivalent solution as the standard methods provide, but the generality surpasses. "
   ]
  },
  {
   "cell_type": "markdown",
   "id": "d6c5ec39",
   "metadata": {},
   "source": [
    "## Method of Fokas \n",
    "### The Local Relation"
   ]
  },
  {
   "cell_type": "markdown",
   "id": "8ea786c9",
   "metadata": {},
   "source": [
    " Consider the one-dimensional heat equation with advection: $u_t = \\gamma u_{xx}+cu_x $, for $x > 0$. Here $\\gamma > 0$ and $c \\neq 0$ are real parameters\n"
   ]
  },
  {
   "cell_type": "markdown",
   "id": "7cb5235a",
   "metadata": {},
   "source": [
    "We wish to rewrite the equation in divergence forms for $x$ and $t$ independent on the two sides, specifically:\n",
    "\n",
    "$$(e^{-ikx+Wt}u)_t = J_x\\label{eq:2.1}$$ \n",
    "\n",
    "where $W(k)$ is only $k$-dependent, $J(x,t)$ is $x$ and $t$ dependent.   "
   ]
  },
  {
   "cell_type": "markdown",
   "id": "c7274d2a",
   "metadata": {},
   "source": [
    "To find $W(k)$ and $J(x,t)$, we note the chain rule on the left side,\n",
    "\n",
    "\\begin{align}\n",
    "\\label{}\n",
    "(e^{-ikx+Wt}u)_t &= We^{-ikx+Wt}u + e^{-ikx+Wt}u_t\\\\\n",
    "&=We^{-ikx+Wt}u + e^{-ikx+Wt}(\\gamma u_{xx}+cu_x)\n",
    "\\end{align}\n"
   ]
  },
  {
   "cell_type": "markdown",
   "id": "ea459a00",
   "metadata": {},
   "source": [
    "substituting inverse chain rule, we have\n",
    "\n",
    "\\begin{align}\n",
    "(e^{-ikx+Wt}u)_t &=We^{-ikx+Wt}u + (e^{-ikx+Wt}\\gamma u_{x})_x+ike^{-ikx+Wt}\\gamma u_x+(e^{-ikx+Wt}cu)_x+ike^{-ikx+Wt}cu\\\\\n",
    "&=We^{-ikx+Wt}u + (e^{-ikx+Wt}\\gamma u_{x})_x+ik[(e^{-ikx+Wt}\\gamma u)_x+ike^{-ikx+Wt}\\gamma u]+(e^{-ikx+Wt}cu)_x+ike^{-ikx+Wt}cu\\\\\n",
    "&=(W-\\gamma k^2+ikc)e^{-ikx+Wt}u+(e^{-ikx+Wt}(\\gamma u_x+ik\\gamma u+cu))_x\n",
    "\\end{align}\n"
   ]
  },
  {
   "cell_type": "markdown",
   "id": "577137df",
   "metadata": {},
   "source": [
    "let  $\\;\\;$  $W-\\gamma k^2+ikc =0,\\label{eq:2.2}$<br>\n",
    "we are allowed to obtain the divergence forms for $x$ and $t$ on the two sides of equation:\n",
    "\n",
    "\\begin{equation}\\label{eq:2.3}\n",
    "(e^{-ikx+Wt}u)_t=(e^{-ikx+Wt}(\\gamma u_x+ik\\gamma u+cu))_x\n",
    "\\end{equation}\n",
    "\n"
   ]
  },
  {
   "cell_type": "markdown",
   "id": "02ee4348",
   "metadata": {},
   "source": [
    "This is the **Local Relation**, which is equivalent to the original equation, but contains a free variable $k$. The Local Relation holds for all values for $k$, including complex ones. Referring to the quantity $W(k)$ as **the symbol of the operator** $L=\\gamma \\partial^2 x+c\\partial x$. So we arrive at $u_t=Lu=\\gamma u_{xx} +cu_x$. <br><br> In a simpler case of heat equation, $u_t=u_{xx}$ , $W(k)$ is obtained by replacing each $\\partial x \\to ik$, and the result $W=k^2$ is familiar to us."
   ]
  },
  {
   "cell_type": "markdown",
   "id": "4fc2a03e",
   "metadata": {},
   "source": [
    "### Half Line Scheme"
   ]
  },
  {
   "cell_type": "markdown",
   "id": "85cc5519",
   "metadata": {},
   "source": [
    "We now focus on the same heat equation with advection on the half line, says $x,t>0$, with given initial condition $u_0(x)$ and Dirichlet boundary condition $f_0(t)$:<br>\n",
    "\n",
    "\\begin{align}\\label{}\n",
    "u_t&=\\gamma u_{xx}+cu_x, \\quad\\quad\\quad &x>0,\\;\\; t>0,\\\\\n",
    "u(x,0)&=u_0(x),  \\quad\\quad\\quad &x>0,\\\\\n",
    "u(0,t)&=f_0(t), \\quad\\quad\\quad &t>0.\n",
    "\\end{align}\n",
    "<br>To fully consider the situation for $x<0$, one might use the *mirror principle*. The equation is invariant under the transform $x\\to-x$, and the Fourier sine transform can be utilized to solve for the negative $x$ region, at least with homogeneous boundary conditions. If the boundary condition is non-homogeneous, a two-steps process is required. First, solve for the general solution to homogeneous boundary conditions. Second, solve for the particular solution to non-homogeneous ones using variation of parameters."
   ]
  },
  {
   "cell_type": "markdown",
   "id": "127882ba",
   "metadata": {},
   "source": [
    "![1.PNG](1.PNG)\n",
    ">Figure 2.1: Integral along the contour in region $\\mathcal{D}$ where the vertical dashed line indicates $x=\\infty$"
   ]
  },
  {
   "cell_type": "markdown",
   "id": "8be573b0",
   "metadata": {},
   "source": [
    "### The Global Relation"
   ]
  },
  {
   "cell_type": "markdown",
   "id": "cd6cf5ad",
   "metadata": {},
   "source": [
    "Integrating the Local Relation over the region $\\mathcal{D}$ (see Fig. 2.1), we have \n",
    "\n",
    "\\begin{equation}\\label{}\n",
    "\\iint_\\mathcal{D}[(e^{-ikx+Wt}u)_t-(e^{-ikx+Wt}(\\gamma u_x+ik\\gamma u+cu))_x]dxdt=0\\\\\n",
    "\\end{equation}\n",
    "Appling Green's Theorem,\n",
    "\n",
    "\\begin{equation}\\label{eq:2.4}\n",
    "\\oint_{\\partial \\mathcal{D}}e^{-ikx+Wt}(\\gamma u_x+ik\\gamma u+cu)dt+e^{-ikx+Wt}udx=0\n",
    "\\end{equation}\n"
   ]
  },
  {
   "cell_type": "markdown",
   "id": "c8b344b6",
   "metadata": {},
   "source": [
    "Since $\\partial \\mathcal{D}$ consists of 4 line segments, we examine the contribution from each line segment."
   ]
  },
  {
   "cell_type": "markdown",
   "id": "548438aa",
   "metadata": {},
   "source": [
    "(I) On the positive real axis, $t=0$ holds, thus $dt=0$ and $x$ goes from $0$ to $\\infty$. The contribution reduces to \n",
    "\n",
    "\\begin{equation}\\label{}\n",
    "I = \\int_0^\\infty e^{-ikx}u(x,0)dx =\\int_0^\\infty e^{-ikx}u_0(x)dx\n",
    "\\end{equation}\n"
   ]
  },
  {
   "cell_type": "markdown",
   "id": "552a4768",
   "metadata": {},
   "source": [
    "(II) On the dashed line *II*, assuming $u$ and its derivatives vanish as $x\\to \\infty$,\n",
    "\n",
    "\\begin{equation}\\label{}\n",
    "II=0\n",
    "\\end{equation}\n"
   ]
  },
  {
   "cell_type": "markdown",
   "id": "44db03fd",
   "metadata": {},
   "source": [
    "(III) On line *III*, $t=T$, $dt=0$. $x$ goes from $\\infty \\to 0$. The contribution is\n",
    "\n",
    "\\begin{equation}\\label{}\n",
    "III=\\int_\\infty^0e^{-ikx+WT}u(x,T)dx=-e^{WT}\\int_0^\\infty e^{-ikx}u(x,T)dx\n",
    "\\end{equation}\n"
   ]
  },
  {
   "cell_type": "markdown",
   "id": "4a5e476b",
   "metadata": {},
   "source": [
    "(IV) On line segment *IV*, $x=0$,$dx=0$ and $t$ goes from $T$ to $0$,\n",
    "\n",
    "\\begin{align}\\label{}\n",
    "IV&=\\int_T^0 e^{Wt}(\\gamma u_x(0,t)+ik\\gamma u(0,t)+cu(0,t))dt\\\\&=-\\int_0^Te^{Wt}(\\gamma f_1(t)+(c+ik\\gamma)f_0(t))dt\\\\\n",
    "\\end{align}\n",
    "for $f_1(t)=u_x(0,t)$, $f_0(t)=u(0,t)$."
   ]
  },
  {
   "cell_type": "markdown",
   "id": "a529f6a4",
   "metadata": {},
   "source": [
    "Summing up all the contribution, we find \n",
    "\n",
    "\\begin{align}\\label{eq:2.5}\n",
    "0&=I+II+III+IV\\\\\n",
    "&=\\int_0^\\infty e^{-ikx}u_0(x)dx-e^{WT}\\int_0^\\infty e^{-ikx}u(x,T)dx-\\int_0^Te^{Wt}(\\gamma f_1(t)+(c+ik\\gamma)f_0(t))dt\n",
    "\\end{align}\n"
   ]
  },
  {
   "cell_type": "markdown",
   "id": "046c67b4",
   "metadata": {},
   "source": [
    "Here, note that these are the Fourier series transform, defining:\n",
    "\n",
    "\\begin{align}\\label{}\n",
    "\\hat{u}_0(k)&=\\int_0^\\infty e^{-ikx}u_0(x)dx,\\\\\\hat{u}(k,T)&=\\int_0^\\infty e^{-ikx}u(x,T)dx.\n",
    "\\end{align}\n",
    "\n",
    "Consequently, we have the inverse Fourier transform,\n",
    "\n",
    "\\begin{align}\\label{}\n",
    "u_0(x)&=\\frac{1}{2\\pi}\\int_{-\\infty}^\\infty e^{ikx}\\hat{u}_0(k)dk,\\\\\n",
    "u(x,T)&=\\frac{1}{2\\pi}\\int_{-\\infty}^\\infty e^{ikx}\\hat{u}(k,T)dk\n",
    "\\end{align}\n",
    "\n",
    "Next, let \n",
    "\n",
    "\\begin{align}\\label{eq:2.6}\n",
    "F_j(W,T)=\\int_0^T e^{Wt}u_{jx}(0,t)dt,\n",
    "\\end{align}\n"
   ]
  },
  {
   "cell_type": "markdown",
   "id": "99b2c7da",
   "metadata": {},
   "source": [
    "so that for j=0 and j=1,\n",
    "\n",
    "\\begin{equation}\\label{}\n",
    "F_0(W,T)=\\int_0^T e^{Wt}f_0(t)dt, \\quad\\quad F1(W,T)=\\int_0^Te^{Wt}f_1(t)dt\n",
    "\\end{equation}\n",
    "\n",
    "These definations allow us to rewrite (eq. 2.5) as <br>\n",
    "\n",
    "\\begin{equation}\\label{eq:2.7}\n",
    "0=\\hat{u}_0(k)-e^{WT}\\hat{u}(k,T)-(\\gamma F_1(W,T)+(c+ik\\gamma)F_0(W,T))\n",
    "\\end{equation}\n",
    "\n",
    "This is the **Global Relation** for the heat equation on the positive half line. It links the solution at time $T>0$ to the initial and boundary conditions. "
   ]
  },
  {
   "cell_type": "markdown",
   "id": "7bb132d2",
   "metadata": {},
   "source": [
    "To determine where in the complex $k$-plane the Global Relation is valid, other than $k\\in \\mathbb{R}$, note that\n",
    "\n",
    "$$k=k_R+ik_I, \\quad\\quad k_R,k_I \\neq 0$$\n",
    "\n",
    "\\begin{equation}\\label{}\n",
    "\\hat{u}_0(k)=\\int_0^\\infty e^{-ikx}u_0(x)dx=\\int_0^\\infty e^{-ik_Rx}e^{k_Ix}u_0(x)dx\n",
    "\\end{equation}\n",
    "\n",
    "The first exponential term leads to oscillations and is harmless. The second exponential should be decaying as $x\\to \\infty$. Otherwise the integrand has arbitrarily fast exponential growth. Since $x>0$, this requires $k_I<0$. For $k_I=0$, the integral is still defined and $\\hat{u}_0(k)$ is analytic. Thus,  the Global Relation is valid in the lower half $k$ plane, $k_I\\leq 0$. "
   ]
  },
  {
   "cell_type": "markdown",
   "id": "7fc544e8",
   "metadata": {},
   "source": [
    "### The \"solution\" formula "
   ]
  },
  {
   "cell_type": "markdown",
   "id": "c44b7069",
   "metadata": {},
   "source": [
    "From the Global Relation (eq. 2.7),\n",
    "\n",
    "\\begin{align}\\label{}\n",
    "e^{WT}\\hat{u}(k,T)&=\\hat{u}_0(k)-(\\gamma F_1(W,T)+(c+ik\\gamma)F_0(W,T))\\\\\n",
    "\\Rightarrow \\quad\\quad\\quad\\quad \\hat{u}(k,T)&=e^{-WT}\\hat{u}_0(k)-e^{-WT}(\\gamma F_1(W,T)+(c+ik\\gamma)F_0(W,T))\\\\\n",
    "\\Rightarrow \\quad\\quad\\quad\\quad u(x,T)&=\\mathcal{F}^{-1}[\\hat{u}(k,T)](x)\\\\\n",
    "&=\\frac{1}{2\\pi}\\int_{-\\infty}^\\infty e^{ikx}[e^{-WT}\\hat{u}_0(k)-e^{-WT}(\\gamma F_1(W,T)+(c+ik\\gamma)F_0(W,T))]dk\\\\\n",
    "&=\\frac{1}{2\\pi}\\int_{-\\infty}^\\infty e^{ikx-WT}\\hat{u}_0(k)dk-\\frac{1}{2\\pi}\\int_{-\\infty}^\\infty e^{ikx-WT}(\\gamma F_1(W,T)+(c+ik\\gamma)F_0(W,T))dk\\label{eq: 2.8)}\n",
    "\\end{align}\n"
   ]
  },
  {
   "cell_type": "markdown",
   "id": "f5e2c7a9",
   "metadata": {},
   "source": [
    "This seems like a fine expression for the solution. However, it is also useless because it expresses the solution in terms of the initial condition $u_0(x)$ and the boundary conditions $u(0,t)$ and $u_x(0,t)$. Although the first of the boundary conditions is known, the second is not. Thus we still lack a bit information, to avoid this we consider the next section."
   ]
  },
  {
   "cell_type": "markdown",
   "id": "06ba32b7",
   "metadata": {},
   "source": [
    "### Deforming the path of intergration"
   ]
  },
  {
   "cell_type": "markdown",
   "id": "d1b47a77",
   "metadata": {},
   "source": [
    "We proceed to deform the current path of integration, the real line, to region far away. Since we do not know the Neumann boundary condition $f_1(t)$, the $F_1(W,T)$ term is unknown. Our goal is to eliminate the dependence on this Neumann boundary condition.  <br><br>\n",
    "Let us then get back to the \"solution\" formula (eq. 2.8), and rewrite the integral of $F_1$ term as:\n",
    "\n",
    "\\begin{align}\\label{}\n",
    "\\frac{1}{2\\pi}\\int_{-\\infty}^\\infty e^{ikx-WT} F_1(W,T)dk&=\\frac{1}{2\\pi}\\int_{-\\infty}^\\infty e^{ikx-WT}\\int_0^T e^{Wt}f_1(t)dtdk\\\\\n",
    "&=\\frac{1}{2\\pi}\\int_{-\\infty}^\\infty \\int_0^Te^{ikx-W(T-t)}f_1(t)dtdk\\\\\n",
    "&=\\frac{1}{2\\pi}\\int_0^T(\\int_{-\\infty}^\\infty e^{i(k_R+ik_I)x-(W_R+iW_I)(T-t)}f_1(t)dk)dt\n",
    "\\end{align}\n",
    "\n",
    "where we denote \\quad $W =W_R+iW_I $ and  $k=k_R+ik_I$.\n",
    "\n"
   ]
  },
  {
   "cell_type": "markdown",
   "id": "8342d03d",
   "metadata": {},
   "source": [
    "Therefore, in order for the inside integral to be defined, the exponential term needs to be bounded. Based on that the $x$ and $T$ are independent variables, both exponentials need to be controlled separately. For the $x$ exponential term $e^{i(k_R+ik_I)x}$, we require\n",
    "\n",
    "$$k_I\\ge 0,$$\n",
    "\n",
    "The second exponential term involving $W(k)$ requires that $e^{-(W_R+iW_I)(T-t)}$ is bounded. Since $T-t>0$, we requires $W_R>0$. For (eq. 2.2) gives us,\n",
    "\n",
    "\\begin{align}\\label{}\n",
    "W(k)=\\gamma k^2-ikc&=\\gamma(k_R+ik_I)^2-i(k_R+ik_I)c\\\\\n",
    "&=\\gamma(k_R^2-k_I^2)+ck_I+i(2\\gamma k_Rk_I-k_R)\n",
    "\\end{align}\n",
    "\n",
    "and as \n",
    "\n",
    "\\begin{align}\\label{eq:2.9}\n",
    "W_R>0 \\quad\\quad \\Rightarrow \\quad\\quad \\gamma(k_R^2-k_I^2)+ck_I&>0\\\\\n",
    "k_R^2&>k_I^2-\\frac{c}{\\gamma}k_I=(k_I-\\frac{c}{2\\gamma})^2-\\frac{c^2}{4\\gamma^2}\n",
    "\\end{align}\n",
    "\n",
    "Denote $\\mathbb{C^+}$ as the upper half plane and the region \n",
    "\n",
    "$$\\Omega = \\{k\\in \\mathbb{C}: W_R(k)<0\\}=\\{k\\in \\mathbb{C}: k_R^2<k_I^2-\\frac{c}{\\gamma}k_I\\}.$$ \n",
    "\n",
    "The area depicted by the inequality is shown in (Figure 2.2) as $\\mathbb{C^+}\\setminus\\Omega$. \n"
   ]
  },
  {
   "cell_type": "markdown",
   "id": "af661db7",
   "metadata": {},
   "source": [
    "![image2](./2.png)\n",
    ">Figure 2.2: Integral along the contours labeled in letters. The shaded region represents $\\Omega$. The dashed contours indicate $|k|=\\infty$."
   ]
  },
  {
   "cell_type": "markdown",
   "id": "38d90cf9",
   "metadata": {},
   "source": [
    "Figure 2.2 introduces the contours labeled in letters, where the contour B and B' are assumed to be at $|k|=\\infty$. Now consider the second integral term in the \"solution\" formula (eq. 2.8) which is integrating over the real $k$ line from $-\\infty$ to $\\infty$. <br><br>The contour integrals on the left suggest $\\int_A=\\int_B+\\int_C+\\int_D$. Using **Jordan's Lemma**, we know $\\int_B \\;,\\int_{B'}=0$. For the contour integrals on the right, we have $\\int_{A'}=\\int_{B'}+\\int_{C'}-\\int_{D'}$. It is then obvious to see  $\\int_A+\\int_{A'}=\\int_C+\\int_{C'} \\quad \\Rightarrow \\quad \\int_{\\mathbb{R}}=\\int_{\\partial\\Omega}.$ Thus, rewrite our \"solution\" formula:\n",
    "\n",
    "\\begin{equation}\\label{eq: 2.10}\n",
    "u(x,T)  =\\frac{1}{2\\pi}\\int_{-\\infty}^\\infty e^{ikx-WT}\\hat{u}_0(k)dk-\\frac{1}{2\\pi}\\int_{\\partial\\Omega} e^{ikx-WT}(\\gamma F_1(W,T)+(c+ik\\gamma)F_0(W,T))dk\n",
    "\\end{equation}\n",
    "\n",
    "In this way, the original path of integral is deformed as far away from the real line as possible. "
   ]
  },
  {
   "cell_type": "markdown",
   "id": "78e4c01d",
   "metadata": {},
   "source": [
    "### Deploy Symmetries of *W(k)*"
   ]
  },
  {
   "cell_type": "markdown",
   "id": "adb2b4ca",
   "metadata": {},
   "source": [
    "So far the solution equation $u(x,T))$ is still trivial, because the dependence on $F_1(W,T)$ is not eliminated. To proceed, we start looking at the $W(k)$ quantity. Consider we find the symmetry of $W(k)$ in the manner of transform $k\\to v(k)$ that leaves $W(k)$ invariant:\n",
    "\n",
    "\\begin{equation}\\label{}\n",
    "W(k)=W(v(k)).\n",
    "\\end{equation}\n",
    "\n",
    "Writing \n",
    "\n",
    "\\begin{align}\\label{}\n",
    "W(k)=\\gamma k^2-ikc&=\\gamma (k^2-\\frac{ic}{\\gamma}k+(\\frac{ic}{2\\gamma}^2)-(\\frac{ic}{2\\gamma}^2))\\\\\n",
    "&=\\gamma[(k-\\frac{ic}{2\\gamma})^2+(\\frac{ic}{2\\gamma})^2]\\\\\\\\\n",
    "W(v(k))&=\\gamma[(v-\\frac{ic}{2\\gamma})^2+(\\frac{ic}{2\\gamma})^2].\n",
    "\\end{align}\n",
    "\n",
    "\n",
    "Let $v(k)=\\frac{ic}{\\gamma}-k,$ \n",
    "\n",
    "\\begin{align}\\label{}\n",
    "\\quad \\rightarrow \\quad W(v(k)) &=\\gamma[(\\frac{ic}{\\gamma}-k-\\frac{ic}{2\\gamma})^2+(\\frac{ic}{2\\gamma})^2]\\\\\n",
    "&=\\gamma[(\\frac{ic}{2\\gamma}-k)^2+(\\frac{ic}{2\\gamma})^2]\\\\\n",
    "&=W(k).\n",
    "\\end{align}\n",
    "\n"
   ]
  },
  {
   "cell_type": "markdown",
   "id": "2e5c6374",
   "metadata": {},
   "source": [
    "If we apply it to the Global Relation (eq. 2.7), we find\n",
    "\n",
    "\\begin{align}\n",
    "0&=\\hat{u}_0(\\frac{ic}{\\gamma}-k)-e^{WT}\\hat{u}(\\frac{ic}{\\gamma}-k,T)-[\\gamma F_1(W,T)+(c+i(\\frac{ic}{\\gamma}-k)\\gamma)F_0(W,T)]\\\\\n",
    "&=\\hat{u}_0(\\frac{ic}{\\gamma}-k)-e^{WT}\\hat{u}(\\frac{ic}{\\gamma}-k,T)-\\gamma F_1(W,T)+ik\\gamma F_0(W,T)\\label{eq: 2.11}\n",
    "\\end{align}\n",
    "\n",
    "Solving this new Global Relation gives us\n",
    "\n",
    "\\begin{equation}\\label{eq:2.12}\n",
    "\\gamma F_1(W,T)=\\hat{u}_0(\\frac{ic}{\\gamma}-k)-e^{WT}\\hat{u}(\\frac{ic}{\\gamma}-k,T)+ik\\gamma F_0(W,T)\n",
    "\\end{equation}\n",
    "\n",
    "\n",
    "This new Global Relation is valid in condition that $e^{-i(\\frac{ic}{\\gamma}-k)x}$ is decaying. The exponential terms comes from the inverse Fourier transform of $\\hat{u},\\hat{u}_0$. Therefore, it follows that\n",
    "\n",
    "\\begin{align}\\label{}\n",
    "e^{-i(\\frac{ic}{\\gamma}-k)x}=e^{(\\frac{ic}{\\gamma}+ik_R-k_I)x}=e^{(\\frac{c}{\\gamma}-k_I)x}e^{ik_Rx}\n",
    "\\end{align}\n",
    "\n",
    "\\begin{align}\\label{}\n",
    "\\rightarrow \\quad\\quad\\quad\\frac{c}{\\gamma}-k_I&\\le0\\\\k_I\\ge\\frac{c}{\\gamma}\n",
    "\\end{align}\n",
    "\n",
    "\n",
    "\n"
   ]
  },
  {
   "cell_type": "markdown",
   "id": "f5f9b44d",
   "metadata": {},
   "source": [
    "Since this expression is valid in the upper half $k$ plane above $k_I=\\frac{ic}{\\gamma}$, we may substitute it in (eq. 2.10). This results in\n",
    "\n",
    "\\begin{align}\\label{}\n",
    "u(x,T)  &=\\frac{1}{2\\pi}\\int_{-\\infty}^\\infty e^{ikx-WT}\\hat{u}_0(k)dk-\\frac{1}{2\\pi}\\int_{\\partial\\Omega} e^{ikx-WT}[\\hat{u}_0(\\frac{ic}{\\gamma}-k)-e^{WT}\\hat{u}(\\frac{ic}{\\gamma}-k,T)+ik\\gamma F_0(W,T)+(c+ik\\gamma)F_0(W,T)]dk\\\\\\\\\n",
    "&=\\frac{1}{2\\pi}\\int_{-\\infty}^\\infty e^{ikx-WT}\\hat{u}_0(k)dk-\\frac{1}{2\\pi}\\int_{\\partial\\Omega} e^{ikx-WT}\\hat{u}_0(\\frac{ic}{\\gamma}-k)dk+\\frac{1}{2\\pi}\\int_{\\partial\\Omega}e^{ikx}\\hat{u}(\\frac{ic}{\\gamma}-k,T)dk -\\frac{1}{2\\pi}\\int_{\\partial\\Omega} e^{ikx-WT}(c+2ik\\gamma)F_0(W,T)dk\n",
    "\\end{align}\n"
   ]
  },
  {
   "cell_type": "markdown",
   "id": "6bddd48d",
   "metadata": {},
   "source": [
    "However, this is not the end. Note that we have an unknown term $\\hat{u}(\\frac{ic}{\\gamma}-k,T)$. "
   ]
  },
  {
   "cell_type": "markdown",
   "id": "eaf6264d",
   "metadata": {},
   "source": [
    "### The solution formula"
   ]
  },
  {
   "cell_type": "markdown",
   "id": "d40ae2e8",
   "metadata": {},
   "source": [
    "We again examine the unwanted term $\\hat{u}(\\frac{ic}{\\gamma}-k,T)$. It is unknown, however, we know that it is analytic in the upper half plane above $k_I=\\frac{ic}{\\gamma}$. Note that the intergral $\\frac{1}{2\\pi}\\int_{\\partial\\Omega}e^{ikx}\\hat{u}(\\frac{ic}{\\gamma}-k,T)dk$ does not contain the $WT$ term exponential term. As a consequence, the region $\\Omega$ is not relevant anymore. We could take integration paths through it, as will. \n",
    "\n",
    "\n",
    "<br><br>From Cauchy's Theorem, as depicted in the Figure below,"
   ]
  },
  {
   "cell_type": "markdown",
   "id": "33140d76",
   "metadata": {},
   "source": [
    "![image3](3.PNG)\n",
    ">Figure 2.3: Integral along the contours labeled in letters. The shaded region represents $\\Omega$. The dashed contours indicate $|k|=\\infty$."
   ]
  },
  {
   "cell_type": "markdown",
   "id": "17097501",
   "metadata": {},
   "source": [
    "\\begin{equation}\\label{}\n",
    "(\\int_A+\\int_B+\\int_C)e^{ikx}\\hat{u}(\\frac{ic}{\\gamma}-k,T)dk=0 \\quad \\Rightarrow \\quad \\int_{\\partial\\Omega}e^{ikx}\\hat{u}(\\frac{ic}{\\gamma}-k,T)dk=-\\int_C\n",
    "e^{ikx}\\hat{u}(\\frac{ic}{\\gamma}-k,T)dk=0\n",
    "\\end{equation}\n",
    "\n",
    "by Jordan's Lemma. Thus, the unwanted term is zero and we finally obtain the solution formula without quotation mark:\n",
    "\n",
    "\\begin{equation}\\label{eq:2.13}\n",
    "u(x,T)=\\frac{1}{2\\pi}\\int_{-\\infty}^\\infty e^{ikx-WT}\\hat{u}_0(k)dk-\\frac{1}{2\\pi}\\int_{\\partial\\Omega} e^{ikx-WT}\\hat{u}_0(\\frac{ic}{\\gamma}-k)dk -\\frac{1}{2\\pi}\\int_{\\partial\\Omega} e^{ikx-WT}(c+2ik\\gamma)F_0(W,T)dk\n",
    "\\end{equation}\n",
    "\n",
    "Finally, from this example we showed that how method of fokas is capable of solving the heat equation with acceptable calculation costs. We first find the local relation and the global relation. Following that, we do a semi-infinite Fourier transform to obtain $\\hat{u}_0(k)$, $\\hat{u}_0(v(k))$, and $F_0(W,T)$. Then from analysis of exponential term, we obtain the integral path $\\partial \\Omega$. The final step is simply calculate the integral values out. \n",
    "\n",
    "It is noted that for general heat equation with advection, $u_t=\\gamma u_{xx}+cu_x+\\alpha u$, nothing changes except for $W(k)\\to W(k)-\\gamma k^2+ikc+\\alpha=0$. The symmetry of $W(k)$ allows us to eliminate $F_1(W,T)$. In a similar way with substitution for $F_0(W,T)$, one can eliminate the dependence on $F_0(W,T)$. For higher order PDEs, this method of fokas especially exhibits a generality to solutions. "
   ]
  },
  {
   "cell_type": "markdown",
   "id": "67576b70",
   "metadata": {},
   "source": [
    "## Implementation"
   ]
  },
  {
   "cell_type": "markdown",
   "id": "a918f7fe",
   "metadata": {},
   "source": [
    "In this section, I'll implement the Matlab scripts for solving $u(x,t)$ for the heat equation with adevction in 3 different methods: **Spectral Method**, **Time-Stepping Method**, and the method we just covered the **Fokas' Method**. You may note that the previous 2 methods are difficult to solve the linear PDEs system on the half line, because both requires specific boundary conditions. Now let us restrict the boundary conditions to be homogeneous and the heat equation does not cross the $x=0$, by that meaning: <br><br> $u(0,t)=f_0(t)=0$, and $u(x,0)=u_0(x)$ such that $u(x,t)$ is always 0 for $x<0, \\; 0\\le t<T'$ where $T'$ is a fixed positive finite number.\n",
    "\n"
   ]
  },
  {
   "cell_type": "markdown",
   "id": "dbba9495",
   "metadata": {},
   "source": [
    "Specifically, the example we are considering is:\n",
    "\n",
    "\\begin{align}\\label{eq:}\n",
    "u_t&=\\gamma u_{xx} +\\beta u_x+\\alpha u, \\quad\\quad x>0, \\; 0\\le t<T'\\\\\n",
    "u(x,0)&=u_0(x)=e^{-\\frac{(x-16)^2}{10}}\\\\\n",
    "u(0,t)&=f_0(t)=0\\\\\n",
    "\\end{align}\n",
    "\n",
    "The coefficients are $\\gamma=0.01, \\;\\beta=0.1, \\;\\alpha=0$, respectively. For the spectral method, we still use the Fourier Transform, in the interval $[-L,L]$,taking $L$ sufficiently large. Then we focus on the $[0,L]$ interval, provided that the solution of heat equation has $0$ value on the negative $x$ axis. So the periodic boundary condition $u(0,t)=u(L,t)=0$ still holds. For the Time-stepping method, we are using the interval $[0,L]$. ode45 solver will be used and the fourth-order center  difference scheme is used to calculate $u_{xx},\\; u_x$. Finally, for the method of fokas: because $f_0(t)=0$, the last term in solution formula (eq. 2.13) is dropped. The integral with function-handle is used, and the complex path $\\partial \\Omega$ is set as \"waypoints\" in Matlab integral options.\n"
   ]
  },
  {
   "cell_type": "markdown",
   "id": "5595639a",
   "metadata": {},
   "source": [
    "![image4](code1.png)"
   ]
  },
  {
   "cell_type": "markdown",
   "id": "a710b87c",
   "metadata": {},
   "source": [
    "![image5](code2.png)"
   ]
  },
  {
   "cell_type": "markdown",
   "id": "bea357aa",
   "metadata": {},
   "source": [
    "![image6](code3.png)"
   ]
  },
  {
   "cell_type": "markdown",
   "id": "5bfdce32",
   "metadata": {},
   "source": [
    "![image7](code5.png)"
   ]
  },
  {
   "cell_type": "markdown",
   "id": "8d947b0d",
   "metadata": {},
   "source": [
    "![image8](code6.png)"
   ]
  },
  {
   "cell_type": "markdown",
   "id": "a1d5648f",
   "metadata": {},
   "source": [
    "![image9](Capture.png)\n",
    ">Matlab plot shoing the solution $u(x,t=10)$, the solution solved by method of fokas overlaps with the time-stepping solution."
   ]
  },
  {
   "cell_type": "markdown",
   "id": "f2474219",
   "metadata": {},
   "source": [
    "## Conclusion and improvement"
   ]
  },
  {
   "cell_type": "markdown",
   "id": "7633e41c",
   "metadata": {},
   "source": [
    "The animated plot shows that the method of fokas gives the result very close to the result from time-stepping method, while the spectral method using Fourier Transform produces an obvious discrepancy from the other two.\n",
    "\n",
    "I guess the for the spectral method, our boundary is not symmetric nor periodic. Even though $L$ is took to be 30, it is not sufficiently large to assume the b.c holds. Some improvement might be try to use Fourier Sine Transform in the $[0,L]$ interval. Additionally, by increasing the $L$ we should explicitly make our region extend to infinity. \n",
    "\n",
    "I haven't figured out how to solve the heat equation with non-homogeneous boundary conditions ($u(0,t)=f_0(t)\\ne 0$). Generally, it requires to use Green's function to obtain the exact solution. However, I didn't manage to solve that numerically. Thus, I'm only using this homogeneous boundary condition for simplicity. One should then note the effectiveness and generality of method of fokas."
   ]
  },
  {
   "cell_type": "markdown",
   "id": "c2725db9",
   "metadata": {},
   "source": [
    "## Reference"
   ]
  },
  {
   "cell_type": "markdown",
   "id": "9710f95f",
   "metadata": {},
   "source": [
    "Deconinck, B.; Trogdon, T.; Vasan, V. (2014-01-01). \"The Method of Fokas for Solving Linear Partial Differential Equations\". SIAM Review. 56 (1): 159–186. CiteSeerX 10.1.1.454.8462. doi:10.1137/110821871. ISSN 0036-1445."
   ]
  }
 ],
 "metadata": {
  "kernelspec": {
   "display_name": "Python 3 (ipykernel)",
   "language": "python",
   "name": "python3"
  },
  "language_info": {
   "codemirror_mode": {
    "name": "ipython",
    "version": 3
   },
   "file_extension": ".py",
   "mimetype": "text/x-python",
   "name": "python",
   "nbconvert_exporter": "python",
   "pygments_lexer": "ipython3",
   "version": "3.8.8"
  },
  "latex_envs": {
   "LaTeX_envs_menu_present": true,
   "autoclose": true,
   "autocomplete": true,
   "bibliofile": "biblio.bib",
   "cite_by": "apalike",
   "current_citInitial": 1,
   "eqLabelWithNumbers": false,
   "eqNumInitial": 1,
   "hotkeys": {
    "equation": "Ctrl-E",
    "itemize": "Ctrl-I"
   },
   "labels_anchors": true,
   "latex_user_defs": false,
   "report_style_numbering": false,
   "user_envs_cfg": false
  },
  "toc": {
   "base_numbering": 1,
   "nav_menu": {},
   "number_sections": true,
   "sideBar": true,
   "skip_h1_title": true,
   "title_cell": "Table of Contents",
   "title_sidebar": "Contents",
   "toc_cell": false,
   "toc_position": {},
   "toc_section_display": true,
   "toc_window_display": false
  }
 },
 "nbformat": 4,
 "nbformat_minor": 5
}
